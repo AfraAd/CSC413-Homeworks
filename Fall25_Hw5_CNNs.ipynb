{
  "cells": [
    {
      "cell_type": "markdown",
      "metadata": {
        "id": "view-in-github",
        "colab_type": "text"
      },
      "source": [
        "<a href=\"https://colab.research.google.com/github/AfraAd/CSC413-Homeworks/blob/main/Fall25_Hw5_CNNs.ipynb\" target=\"_parent\"><img src=\"https://colab.research.google.com/assets/colab-badge.svg\" alt=\"Open In Colab\"/></a>"
      ]
    },
    {
      "cell_type": "markdown",
      "id": "c552ddd6",
      "metadata": {
        "id": "c552ddd6"
      },
      "source": [
        "# Homework 5 - Convolutional Neural Networks\n",
        "CSC413/2516: Neural Networks and Deep Learning\n",
        "\n",
        "As with previous homeworks, replace \"## Your Code\" lines with your implementation.\n",
        "\n",
        "\n",
        "In this homework you will implement the convolution operation from scratch, do convolution arithmetic (receptive field, number of parameters), and implement a convolutional neural network in PyTorch. While you are not allowed to use PyTorch in the first section, you are allowed to use it in the third part of the homework.\n",
        "- Convolution from scratch (1 point)\n",
        "- Convolution arithmetic (2.05 points)\n",
        "- Convolutional neural network in PyTorch (3.45 points)\n",
        "\n",
        "Make sure to connect to GPU for the training part (Runtime -> Change runtime -> Select T4 GPU)\n"
      ]
    },
    {
      "cell_type": "code",
      "execution_count": 1,
      "id": "baad1a76",
      "metadata": {
        "id": "baad1a76"
      },
      "outputs": [],
      "source": [
        "import importlib.util\n",
        "\n",
        "packages = ['torch', 'torchvision', 'datasets']\n",
        "missing = [pkg for pkg in packages if importlib.util.find_spec(pkg) is None]\n",
        "\n",
        "if missing:\n",
        "    import subprocess\n",
        "    import sys\n",
        "    print(f\"Installing missing packages: {', '.join(missing)}\")\n",
        "    subprocess.check_call([sys.executable, \"-m\", \"pip\", \"install\"] + missing)"
      ]
    },
    {
      "cell_type": "code",
      "execution_count": 2,
      "id": "b292968b",
      "metadata": {
        "id": "b292968b"
      },
      "outputs": [],
      "source": [
        "import numpy as np\n",
        "from typing import Dict, Tuple, List\n",
        "import matplotlib.pyplot as plt\n",
        "\n",
        "import torch\n",
        "import torchvision\n",
        "from torch import nn\n",
        "from torch.nn import functional as F\n",
        "from torch.utils.data import DataLoader, Dataset\n",
        "from torchvision import transforms\n",
        "\n",
        "from datasets import load_dataset\n"
      ]
    },
    {
      "cell_type": "markdown",
      "id": "47e7339f",
      "metadata": {
        "id": "47e7339f"
      },
      "source": [
        "## Implement the convolution operation from scratch"
      ]
    },
    {
      "cell_type": "code",
      "execution_count": 3,
      "id": "f41ceec2",
      "metadata": {
        "id": "f41ceec2"
      },
      "outputs": [],
      "source": [
        "def output_shape_of_conv(\n",
        "    image_height: int,\n",
        "    image_width: int,\n",
        "    kernel_height: int,\n",
        "    kernel_width: int,\n",
        "    padding: int,\n",
        "    stride: int,\n",
        ") -> tuple[int, int]:\n",
        "    \"\"\"Compute the output shape of a convolutional layer given the input shape and the kernel shape.\"\"\"\n",
        "    out_height, out_width = 0, 0\n",
        "    ##########################################\n",
        "    ## TODO: Implement the output shape computation, 0.2 points\n",
        "    out_height = image_height + 2 * padding - kernel_height + 1\n",
        "    out_width = image_width + 2 * padding - kernel_width + 1\n",
        "    ##########################################\n",
        "    return out_height, out_width\n",
        "\n",
        "\n",
        "def convolution(\n",
        "    image: np.typing.ArrayLike,\n",
        "    kernel: np.typing.ArrayLike,\n",
        "    padding: int = 0,\n",
        "    stride: int = 1,\n",
        ") -> np.typing.ArrayLike:\n",
        "    \"\"\"Perform a convolution operation on the image with the kernel using padding and stride. Use the traditional definition of convolution (not cross-correlation).\n",
        "    Images are grayscale and of shape  (H, W), H=height, W=width.\"\"\"\n",
        "    res = np.zeros(\n",
        "        output_shape_of_conv(\n",
        "            image.shape[0],\n",
        "            image.shape[1],\n",
        "            kernel.shape[0],\n",
        "            kernel.shape[1],\n",
        "            padding,\n",
        "            stride,\n",
        "        )\n",
        "    )\n",
        "    ##########################################\n",
        "    ## TODO: Implement the convolution operation, 0.6 points\n",
        "    ## Your code will be tested with different padding and stride values\n",
        "    ## 1. Apply padding to the image\n",
        "    ## Hint: You can use np.pad\n",
        "    input = np.pad(image, ((padding, padding), (padding, padding)), \"constant\")\n",
        "    ## 2. Implement the convolution operation on the padded image\n",
        "    ## Hint: Either use np.flip or carefully select the indices\n",
        "    for i in range(0, res.shape[0], stride):\n",
        "        for j in range(0, res.shape[1], stride):\n",
        "            res[i, j] = np.sum(input[i : i + kernel.shape[0], j : j + kernel.shape[1]])\n",
        "    ##########################################\n",
        "    return res\n"
      ]
    },
    {
      "cell_type": "markdown",
      "id": "6adeb926",
      "metadata": {
        "id": "6adeb926"
      },
      "source": [
        "### Plus Detector\n",
        "Implement a 3x3 kernel that detects a \"+\" shape (bright cross on dark background). You will receive full points if your kernel outputs the maximum response at the center of the plus(es)."
      ]
    },
    {
      "cell_type": "code",
      "execution_count": 28,
      "id": "be008654",
      "metadata": {
        "id": "be008654",
        "colab": {
          "base_uri": "https://localhost:8080/",
          "height": 362
        },
        "outputId": "db2d32e1-33de-48b5-c03e-f619ff8fe9c4"
      },
      "outputs": [
        {
          "output_type": "display_data",
          "data": {
            "text/plain": [
              "<Figure size 1000x500 with 2 Axes>"
            ],
            "image/png": "[encoded data removed]"
          },
          "metadata": {}
        },
        {
          "output_type": "stream",
          "name": "stdout",
          "text": [
            "[[ 0.  0.  0.]\n",
            " [ 0. -1.  0.]\n",
            " [ 0.  0.  0.]] [[0. 1. 1. 1. 0. 0. 1. 1. 1. 0. 0. 0. 1. 1. 1.]\n",
            " [1. 3. 4. 3. 1. 0. 2. 2. 2. 0. 0. 1. 3. 4. 3.]\n",
            " [1. 4. 5. 4. 2. 2. 5. 5. 5. 2. 1. 1. 4. 5. 4.]\n",
            " [1. 3. 4. 3. 2. 2. 5. 5. 5. 2. 1. 1. 3. 4. 3.]\n",
            " [0. 1. 1. 1. 1. 2. 5. 5. 5. 2. 1. 0. 1. 1. 1.]\n",
            " [0. 0. 0. 0. 0. 0. 2. 2. 2. 0. 0. 0. 0. 0. 0.]]\n"
          ]
        }
      ],
      "source": [
        "# Create a test image with a plus sign\n",
        "test_image = np.array(\n",
        "    [\n",
        "        [0, 0, 0, 0, 0, 0, 0, 0, 0, 0, 0, 0, 0, 0, 0],\n",
        "        [0, 0, 1, 0, 0, 0, 0, 1, 0, 0, 0, 0, 0, 1, 0],\n",
        "        [0, 1, 1, 1, 0, 0, 0, 1, 0, 0, 0, 0, 1, 1, 1],\n",
        "        [0, 0, 1, 0, 0, 1, 1, 1, 1, 1, 0, 0, 0, 1, 0],\n",
        "        [0, 0, 0, 0, 0, 0, 0, 1, 0, 0, 0, 0, 0, 0, 0],\n",
        "        [0, 0, 0, 0, 0, 0, 0, 1, 0, 0, 0, 0, 0, 0, 0],\n",
        "    ],\n",
        "    dtype=np.float32,\n",
        ")\n",
        "## TODO: Implement the plus detector, 0.2 points\n",
        "plus_detector = np.array(\n",
        "    [\n",
        "        [0, 0, 0],\n",
        "        [0, -1, 0],\n",
        "        [0, 0, 0]\n",
        "    ],\n",
        "    dtype=np.float32\n",
        ")\n",
        "\n",
        "if __name__ == \"__main__\":\n",
        "    result = convolution(test_image, plus_detector, padding=1, stride=1)\n",
        "    fig, axs = plt.subplots(1, 2, figsize=(10, 5))\n",
        "    axs[0].imshow(test_image, cmap=\"gray\")\n",
        "    axs[0].set_title(\"Test Image\")\n",
        "    axs[1].imshow(result, cmap=\"gray\")\n",
        "    axs[1].set_title(\"Result\")\n",
        "    plt.show()\n"
      ]
    },
    {
      "cell_type": "markdown",
      "id": "49d6fef1",
      "metadata": {
        "id": "49d6fef1"
      },
      "source": [
        "## Convolutional Neural Network\n"
      ]
    },
    {
      "cell_type": "markdown",
      "id": "01cabb79",
      "metadata": {
        "id": "01cabb79"
      },
      "source": [
        "## Warm-up\n",
        "In this section, you will be asked to compute the parameter count and the receptive field of a given convolutional neural network.\n"
      ]
    },
    {
      "cell_type": "code",
      "execution_count": 5,
      "id": "514acbac",
      "metadata": {
        "id": "514acbac"
      },
      "outputs": [],
      "source": [
        "def conv_layer_num_weights(\n",
        "    k1: int, k2: int, in_channels: int, out_channels: int\n",
        ") -> int:\n",
        "    params = 0\n",
        "    ##########################################\n",
        "    ## TODO: Implement the parameter count (for weights) computation for a given convolutional layer, 0.05 points\n",
        "    params = k1 * k2 * in_channels * out_channels\n",
        "    ##########################################\n",
        "    return params\n",
        "\n",
        "def conv_layer_num_biases(\n",
        "    k1: int, k2: int, in_channels: int, out_channels: int\n",
        ") -> int:\n",
        "    params = 0\n",
        "    ##########################################\n",
        "    ## TODO: Implement the parameter count (for biases) computation for a given convolutional layer, 0.05 points\n",
        "    params = out_channels\n",
        "    ##########################################\n",
        "    return params\n"
      ]
    },
    {
      "cell_type": "markdown",
      "id": "31300ede",
      "metadata": {
        "id": "31300ede"
      },
      "source": [
        "In the following cell, we will ask you to compute the receptive field and parameter count for three networks. For the parameter count, you are free to use the `conv_layer_num_weights` and `conv_layer_num_biases` functions. When computing the receptive field, you are free to come up with a general formula or compute it by hand, we will only test the final answer.\n"
      ]
    },
    {
      "cell_type": "code",
      "execution_count": 6,
      "id": "6e1d304b",
      "metadata": {
        "id": "6e1d304b"
      },
      "outputs": [],
      "source": [
        "########################################################\n",
        "#### Network 1\n",
        "########################################################\n",
        "# Imagine you have a 3-layer CNN, with the following architecture:\n",
        "## Layer 1: Conv2d(3, 16, 3, 1), i.e.  out_channels=16, in_channels=3, kernel_size=3, stride=1, padding=0\n",
        "## Layer 2: Conv2d(16, 32, 3, 1), i.e. out_channels=32, in_channels=16, kernel_size=3, stride=1, padding=0\n",
        "## Layer 3: Conv2d(32, 64, 3, 1), i.e. out_channels=64, in_channels=32, kernel_size=3, stride=1, padding=0\n",
        "def get_parameters_of_network1() -> Dict[str, int]:\n",
        "    ## TODO: Compute the number of parameters in the network above, assume we don't use batch normalization or dropout.\n",
        "    ## 0.25 points\n",
        "    parameters = {\n",
        "        \"layer_1_weights\": conv_layer_num_weights(3, 3, 3, 16),\n",
        "        \"layer_1_biases\": conv_layer_num_biases(3, 3, 3, 16),\n",
        "        \"layer_2_weights\": conv_layer_num_weights(3, 3, 16, 32),\n",
        "        \"layer_2_biases\": conv_layer_num_biases(3, 3, 16, 32),\n",
        "        \"layer_3_weights\": conv_layer_num_weights(3, 3, 32, 64),\n",
        "        \"layer_3_biases\": conv_layer_num_biases(3, 3, 32, 64)\n",
        "    }\n",
        "    return parameters\n",
        "\n",
        "\n",
        "def get_receptive_field_for_network1() -> Dict[str, Tuple[int, int]]:\n",
        "    ## TODO: Change the following values to reflect the receptive field of the network above, provide it in the form of (height, width) of the receptive field\n",
        "    receptive_fields = {\n",
        "        \"after_layer_1\": (3, 3),\n",
        "        \"after_layer_2\": (5, 5),\n",
        "        \"after_layer_3\": (7, 7),\n",
        "    }\n",
        "    return receptive_fields\n",
        "\n",
        "\n",
        "########################################################\n",
        "#### Network 2\n",
        "########################################################\n",
        "## TODO: What if the stride is 2x3 at each layer in the above network?\n",
        "## Layer 1: Conv2d(3, 16, 3, (2, 3)), i.e. kernel_size=3, stride=(2, 3), padding=0\n",
        "## Layer 2: Conv2d(16, 32, 3, (2, 3)), i.e. kernel_size=3, stride=(2, 3), padding=0\n",
        "## Layer 3: Conv2d(32, 64, 3, (2, 3)), i.e. kernel_size=3, stride=(2, 3), padding=0\n",
        "def get_receptive_field_for_network1_with_stride_2x3() -> Dict[str, Tuple[int, int]]:\n",
        "    ## TODO: Change the following values\n",
        "    receptive_fields = {\n",
        "        \"after_layer_1\": (3, 3),\n",
        "        \"after_layer_2\": (7, 9),\n",
        "        \"after_layer_3\": (15, 27)\n",
        "    }\n",
        "    return receptive_fields\n",
        "\n",
        "\n",
        "def get_parameters_of_network1_with_stride_2x3() -> Dict[str, int]:\n",
        "    ## TODO: Compute the number of parameters in the network above, assume we don't use batch normalization or dropout.\n",
        "    parameters = {\n",
        "        \"layer_1_weights\": conv_layer_num_weights(3, 3, 3, 16),\n",
        "        \"layer_1_biases\": conv_layer_num_biases(3, 3, 3, 16),\n",
        "        \"layer_2_weights\": conv_layer_num_weights(3, 3, 16, 32),\n",
        "        \"layer_2_biases\": conv_layer_num_biases(3, 3, 16, 32),\n",
        "        \"layer_3_weights\": conv_layer_num_weights(3, 3, 32, 64),\n",
        "        \"layer_3_biases\": conv_layer_num_biases(3, 3, 32, 64)\n",
        "    }\n",
        "    return parameters\n",
        "\n",
        "\n",
        "########################################################\n",
        "#### Network 3\n",
        "########################################################\n",
        "# Imagine you have a 3-layer CNN, with the following architecture:\n",
        "## Layer 1: Conv2d(3, 16, 5, 1) -> ReLU -> BN, i.e. kernel_size=5, stride=1, padding=1\n",
        "## Layer 2: Conv2d(16, 32, 3, 2) -> ReLU -> BN, i.e. kernel_size=3, stride=2, padding=1\n",
        "## Layer 3: Conv2d(32, 64, 3, 1) , i.e. kernel_size=3, stride=1, padding=1\n",
        "def get_parameters_of_network3() -> Dict[str, int]:\n",
        "    ## TODO: Compute the number of parameters in the network above\n",
        "    parameters = {\n",
        "        \"layer_1_conv_weights\": conv_layer_num_weights(5, 5, 3, 16),\n",
        "        \"layer_1_conv_biases\": conv_layer_num_biases(5, 5, 3, 16),\n",
        "        \"layer_1_bn_weights\": 16,\n",
        "        \"layer_1_bn_biases\": 16,\n",
        "        \"layer_1_relu\": 0,\n",
        "        \"layer_2_conv_weights\": conv_layer_num_weights(3, 3, 16, 32),\n",
        "        \"layer_2_conv_biases\": conv_layer_num_biases(3, 3, 16, 32),\n",
        "        \"layer_2_bn_weights\": 32,\n",
        "        \"layer_2_bn_biases\": 32,\n",
        "        \"layer_2_relu\": 0,\n",
        "        \"layer_3_conv_weights\": conv_layer_num_weights(3, 3, 32, 64),\n",
        "        \"layer_3_conv_biases\": conv_layer_num_biases(3, 3, 32, 64)\n",
        "    }\n",
        "    return parameters\n",
        "\n",
        "\n",
        "def get_receptive_field_for_network3() -> Dict[str, int]:\n",
        "    ## TODO: Change the following values\n",
        "    receptive_fields = {\n",
        "        \"after_layer_1\": (5, 5),\n",
        "        \"after_layer_2\": (7, 7),\n",
        "        \"after_layer_3\": (11, 11)\n",
        "    }\n",
        "    return receptive_fields\n"
      ]
    },
    {
      "cell_type": "markdown",
      "source": [
        "#### Convolution as a Matrix-Vector Product\n",
        "\n",
        "We can also implement the convolution operation as a matrix product. This alternative view is useful for understanding how convolutions work mathematically and connects to how they're implemented efficiently in deep learning frameworks.\n",
        "\n",
        "In this formulation, we reshape the input image into a column vector and construct a special matrix (called a Toeplitz matrix) where each row extracts the pixels that the kernel would multiply at one output position. The matrix-vector product then computes all output values simultaneously.\n",
        "\n"
      ],
      "metadata": {
        "id": "m4L_KlEE_EqD"
      },
      "id": "m4L_KlEE_EqD"
    },
    {
      "cell_type": "code",
      "execution_count": 7,
      "id": "b2b748f0",
      "metadata": {
        "id": "b2b748f0"
      },
      "outputs": [],
      "source": [
        "########################################################\n",
        "#### 1D Convolution as Matrix-Vector Product\n",
        "########################################################\n",
        "def convolution_1d_as_matrix_vector() -> np.ndarray:\n",
        "    \"\"\"\n",
        "    Input: x = [x1, x2, x3, x4]\n",
        "    Kernel: k = [1, 0.5]\n",
        "    No padding, stride=1\n",
        "    \"\"\"\n",
        "    ## TODO: Write the convolution kernel as a matrix, 0.15 points\n",
        "    matrix = np.array([ [0.5, 1, 0, 0],\n",
        "                        [0, 0.5, 1, 0],\n",
        "                        [0, 0, 0.5, 1]])\n",
        "    return matrix\n",
        "\n",
        "\n",
        "########################################################\n",
        "#### 2D Convolution as Matrix-Vector Product\n",
        "########################################################\n",
        "def convolution_2d_as_matrix_vector() -> np.ndarray:\n",
        "    \"\"\"\n",
        "    Input: 4x4 image (Hint: flattened to 16x1 vector)\n",
        "    Kernel: [[1, 1], [1, 1]]\n",
        "    No padding, stride=2\n",
        "    \"\"\"\n",
        "    ## TODO: Write the convolution kernel as a matrix, 0.3 points\n",
        "    matrix = np.array([[1, 1, 0, 0, 1, 1, 0, 0, 0, 0, 0, 0, 0, 0, 0, 0],\n",
        "                       [0, 0, 1, 1, 0, 0, 1, 1, 0, 0, 0, 0, 0, 0, 0, 0],\n",
        "                       [0, 0, 0, 0, 0, 0, 0, 0, 1, 1, 0, 0, 1, 1, 0, 0],\n",
        "                       [0, 0, 0, 0, 0, 0, 0, 0, 0, 0, 1, 1, 0, 0, 1, 1]])\n",
        "\n",
        "    return matrix"
      ]
    },
    {
      "cell_type": "markdown",
      "id": "b539aa9e",
      "metadata": {
        "id": "b539aa9e"
      },
      "source": [
        "## Implement a CNN for the subset of CIFAR-10 dataset\n",
        "In this section, you will implement a convolutional neural network using PyTorch. One of the famous datasets in the computer vision community is the CIFAR-10 dataset, and it was developed here at UofT! It consists of 60000 32x32 color images in 10 classes, with 6000 images per class. For this assignment, we will use a small subset of the CIFAR-10 Dataset with only 5 classes, available [here](https://huggingface.co/datasets/r-three/cifar10-5class-5k).\n",
        "\n",
        "### Your Task\n",
        "Build a CNN that achieves **>60% validation accuracy**. You'll implement:\n",
        "1. CNN architecture (convolutional layers, batch norm, pooling, FC layer)\n",
        "2. Forward pass\n",
        "3. Optimizer setup\n",
        "4. Training and evaluation functions"
      ]
    },
    {
      "cell_type": "markdown",
      "id": "3f8ad9ad",
      "metadata": {
        "id": "3f8ad9ad"
      },
      "source": [
        "### Set-up\n"
      ]
    },
    {
      "cell_type": "code",
      "execution_count": 8,
      "id": "56d49526",
      "metadata": {
        "id": "56d49526"
      },
      "outputs": [],
      "source": [
        "## don't change this cell\n",
        "class CIFAR5Dataset(Dataset):\n",
        "    \"\"\"Custom Dataset wrapper for CIFAR-5 (downsampled from CIFAR-10)\"\"\"\n",
        "\n",
        "    class_names = [\"airplane\", \"automobile\", \"bird\", \"cat\", \"deer\"]\n",
        "\n",
        "    def __init__(self, hf_dataset, transform=None):\n",
        "        self.dataset = hf_dataset\n",
        "        self.transform = transform\n",
        "\n",
        "    def __len__(self):\n",
        "        return len(self.dataset)\n",
        "\n",
        "    def __getitem__(self, idx):\n",
        "        item = self.dataset[idx]\n",
        "        image = item[\"img\"]\n",
        "        label = item[\"label\"]\n",
        "\n",
        "        # Convert to RGB\n",
        "        if image.mode != \"RGB\":\n",
        "            image = image.convert(\"RGB\")\n",
        "\n",
        "        if self.transform:\n",
        "            image = self.transform(image)\n",
        "\n",
        "        return image, label\n",
        "\n",
        "\n",
        "def visualize_cifar5(loader, num_samples=16):\n",
        "    \"\"\"\n",
        "    Visualize samples from CIFAR5 dataset\n",
        "    \"\"\"\n",
        "    dataiter = iter(loader)\n",
        "    images, labels = next(dataiter)\n",
        "\n",
        "    # make_grid expects CHW, returns CHW, so permute after\n",
        "    grid = torchvision.utils.make_grid(images[:num_samples])\n",
        "    plt.imshow(grid.permute(1, 2, 0))\n",
        "    plt.axis(\"off\")\n",
        "    plt.show()\n"
      ]
    },
    {
      "cell_type": "markdown",
      "id": "71b8967e",
      "metadata": {
        "id": "71b8967e"
      },
      "source": [
        "### Implement CNN\n",
        "When implementing your CNN, you'll define layers in `__init__()` and use them in `forward()`. PyTorch handles the backward pass automatically\n"
      ]
    },
    {
      "cell_type": "code",
      "execution_count": 9,
      "id": "f12a3dc9",
      "metadata": {
        "id": "f12a3dc9"
      },
      "outputs": [],
      "source": [
        "class CNN(nn.Module):\n",
        "    def __init__(self, num_classes=5):\n",
        "        super(CNN, self).__init__()\n",
        "        ##########################################\n",
        "        ## TODO: Define your CNN architecture, 0.4 points\n",
        "        ## The input tensor is of shape (batch_size, 3, 32, 32)\n",
        "        ## For all conv layers assume k=3, s=1, p=1\n",
        "        ## Use k=2 and s=2 for pooling layers\n",
        "        ##\n",
        "        ## Suggested structure:\n",
        "        ## - Conv layer 1: 3 -> 16 channels\n",
        "        ## - BN + ReLU + MaxPool\n",
        "        ## - Conv layer 2: 16 -> 32 channels\n",
        "        ## - BN + ReLU + MaxPool\n",
        "        ## - Flatten\n",
        "        ## - FC layer: ? -> num_classes\n",
        "        ##########################################\n",
        "        self.conv1 = nn.Conv2d(3, 16, 3, 1, 1)\n",
        "        self.bn1 = nn.BatchNorm2d(16)\n",
        "        self.relu1 = nn.ReLU()\n",
        "        self.pool1 = nn.MaxPool2d(2, 2)\n",
        "\n",
        "        self.conv2 = nn.Conv2d(16, 32, 3, 1, 1)\n",
        "        self.bn2 = nn.BatchNorm2d(32)\n",
        "        self.relu2 = nn.ReLU()\n",
        "        self.pool2 = nn.MaxPool2d(2, 2)\n",
        "\n",
        "        self.fc = nn.Linear(32 * 8 * 8, num_classes)\n",
        "        ## Optional: either define them here or use alternative functions in the forward pass\n",
        "        self.flatten = None\n",
        "        self.relu = None\n",
        "        ##########################################\n",
        "\n",
        "    def forward(self, x: torch.Tensor) -> torch.Tensor:\n",
        "        res = x\n",
        "        ##########################################\n",
        "        ## TODO: Implement the forward pass, 0.45 points\n",
        "        ## Input tensor of shape (batch_size, 3, 32, 32)\n",
        "        ## PyTorch will build the computational graph and keep track of the operations\n",
        "        res = self.conv1(res)\n",
        "        res = self.bn1(res)\n",
        "        res = self.relu1(res)\n",
        "        res = self.pool1(res)\n",
        "\n",
        "        res = self.conv2(res)\n",
        "        res = self.bn2(res)\n",
        "        res = self.relu2(res)\n",
        "        res = self.pool2(res)\n",
        "\n",
        "        res = torch.flatten(res, 1)\n",
        "\n",
        "        res = self.fc(res)\n",
        "        ##########################################\n",
        "        return res\n"
      ]
    },
    {
      "cell_type": "markdown",
      "id": "a6917517",
      "metadata": {
        "id": "a6917517"
      },
      "source": [
        "## Training and Optimization\n",
        "Make sure to optimize your args and \"num_epochs\" is less than or equal to 10. Training test case will timeout after 5 minutes, which is more than enough to achieve 65+% accuracy on this dataset."
      ]
    },
    {
      "cell_type": "code",
      "execution_count": 10,
      "id": "5b4627f5",
      "metadata": {
        "id": "5b4627f5"
      },
      "outputs": [],
      "source": [
        "args = {\n",
        "    \"batch_size\": 100,\n",
        "    \"learning_rate\": 0.03,\n",
        "    \"num_epochs\": 7,\n",
        "    \"device\": \"cuda\" if torch.cuda.is_available() else \"cpu\",\n",
        "    \"optimizer\": \"SGD\",\n",
        "    \"momentum\": 0.7,\n",
        "    \"weight_decay\": 0,\n",
        "    \"eval_interval\": 100,\n",
        "    \"num_classes\": 5,\n",
        "}"
      ]
    },
    {
      "cell_type": "code",
      "execution_count": 11,
      "id": "305b4427",
      "metadata": {
        "id": "305b4427"
      },
      "outputs": [],
      "source": [
        "def setup_optimizer(model, args):\n",
        "    optimizer = None\n",
        "    ##########################################\n",
        "    ## TODO: Create the optimizer setup based on your args, 0.15 points\n",
        "    ## Hint: You can use torch.optim.SGD, torch.optim.Adam, torch.optim.AdamW,\n",
        "    ## torch.optim.RMSprop, etc.\n",
        "    ## You are free to use any optimizer you want, with any hyperparameters you want,\n",
        "    ## make sure to update `args` accordingly.\n",
        "    if args[\"optimizer\"] == \"SGD\":\n",
        "        optimizer = torch.optim.SGD(model.parameters(), lr=args[\"learning_rate\"], momentum=args[\"momentum\"], weight_decay=args[\"weight_decay\"])\n",
        "    ##########################################\n",
        "    return optimizer\n",
        "\n",
        "\n",
        "def accuracy(output, target):\n",
        "    acc = 0\n",
        "    ##########################################\n",
        "    ## TODO: Compute the accuracy of the model, should be between 0 and 1, 0.25 points\n",
        "    ## Hint: output shape is (bs, n_classes)\n",
        "    ## target shape: (bs, 1) or (bs, )\n",
        "    ## Note: This funcion is just for you to practice, it will not be used again\n",
        "    acc = (torch.argmax(output, dim=1) == target).float().mean().item()\n",
        "    # ##########################################\n",
        "    return acc\n"
      ]
    },
    {
      "cell_type": "code",
      "execution_count": 12,
      "id": "bf4879be",
      "metadata": {
        "id": "bf4879be"
      },
      "outputs": [],
      "source": [
        "@torch.no_grad()\n",
        "def eval(model, test_loader, args):\n",
        "    \"\"\"\n",
        "    Evaluate the model on the test set.\n",
        "\n",
        "    Key PyTorch concepts used here:\n",
        "    - @torch.no_grad(): Disables gradient computation to save memory and speed up evaluation.\n",
        "      Since we're not training, we don't need gradients. This is more efficient than computing\n",
        "      gradients and just not using them. And we should never train on the test/validation set!\n",
        "    - model.eval(): Sets the model to evaluation mode. This affects layers like BatchNorm and\n",
        "      Dropout (though we don't use Dropout here). In eval mode, BatchNorm uses running statistics\n",
        "      instead of batch statistics.\n",
        "    \"\"\"\n",
        "    model.eval()\n",
        "    test_loss = 0\n",
        "    correct = 0\n",
        "    for batch_idx, (data, target) in enumerate(test_loader):\n",
        "        ## When using a gpu, we need to make sure inputs are on the same device as the model\n",
        "        data, target = data.to(args[\"device\"]), target.to(args[\"device\"])\n",
        "        loss = torch.tensor([0])\n",
        "        ##########################################\n",
        "        ## 0.8 points\n",
        "        ## TODO: Compute the loss of the model\n",
        "        ## (Hint: you first need to compute the output of the model)\n",
        "        output = model(data)\n",
        "        loss = torch.nn.functional.cross_entropy(output, target)\n",
        "        ## TODO: Keep track of the accuracy of the model\n",
        "        ## (Hint: use `correct` variable to keep track of the total number of\n",
        "        ## correctly predicted data points), should be similar to your `accuracy` implementation\n",
        "        correct += torch.sum(torch.argmax(output, dim=1) == target)\n",
        "        ##########################################\n",
        "        test_loss += loss.item()\n",
        "    test_loss /= len(test_loader.dataset)\n",
        "    test_accuracy = correct / len(test_loader.dataset)\n",
        "    return test_loss, test_accuracy\n",
        "\n",
        "\n",
        "\n",
        "def torch_step(model, batch_data, batch_target, optimizer):\n",
        "    \"\"\"\n",
        "    Perform one training step (forward pass + backward pass + parameter update).\n",
        "\n",
        "    Key PyTorch concepts:\n",
        "    - model.train(): Sets model to training mode (opposite of model.eval()). BatchNorm\n",
        "      will compute statistics from the current batch.\n",
        "    - optimizer.zero_grad(): Clears gradients from the previous step. PyTorch accumulates\n",
        "      gradients by default, so we must clear them before each backward pass.\n",
        "    - loss.item(): Extracts the scalar value from the loss tensor (converts from tensor to Python float).\n",
        "      Without .item(), you'd return a tensor which keeps the entire computation graph in memory.\n",
        "    \"\"\"\n",
        "    model.train()\n",
        "    optimizer.zero_grad()\n",
        "    loss = torch.tensor([0])\n",
        "    ##########################################\n",
        "    ## TODO: Perform a single step of gradient descent, 0.4 points\n",
        "    ## 1. Compute model output\n",
        "    ## 2. Compute loss: (Hint: https://docs.pytorch.org/docs/stable/nn.functional.html#loss-functions)\n",
        "    ## 3. Compute gradients\n",
        "    ## 4. Update parameters. The optimizer knows about all model parameters from setup_optimizer().\n",
        "    output = model(batch_data)\n",
        "    loss = torch.nn.functional.cross_entropy(output, batch_target)\n",
        "    loss.backward()\n",
        "    optimizer.step()\n",
        "    ##########################################\n",
        "    return loss.item()\n"
      ]
    },
    {
      "cell_type": "code",
      "execution_count": 13,
      "id": "dd649468",
      "metadata": {
        "id": "dd649468"
      },
      "outputs": [],
      "source": [
        "def train(model, train_loader, validation_loader, args) -> Tuple[List[float], float, float]:\n",
        "    model.train()\n",
        "    optimizer = setup_optimizer(model, args)\n",
        "    train_losses = []\n",
        "\n",
        "    current_step = 0\n",
        "    for epoch in range(args[\"num_epochs\"]):\n",
        "        for batch_idx, (data, target) in enumerate(train_loader):\n",
        "            data, target = data.to(args[\"device\"]), target.to(args[\"device\"])\n",
        "            loss = torch_step(model, data, target, optimizer)\n",
        "            train_losses.append(loss)\n",
        "\n",
        "            if batch_idx % 10 == 0:\n",
        "                print(\n",
        "                    f\"Epoch {epoch} [{batch_idx}/{len(train_loader)}] Loss: {loss:.4f}\"\n",
        "                )\n",
        "\n",
        "            current_step += 1\n",
        "            if current_step % args[\"eval_interval\"] == 0:\n",
        "                val_loss, val_accuracy = eval(model, validation_loader, args)\n",
        "                print(\n",
        "                    f\"Validation Loss: {val_loss:.4f}, Validation Accuracy: {val_accuracy:.2f}\"\n",
        "                )\n",
        "\n",
        "    return train_losses, val_loss, val_accuracy\n"
      ]
    },
    {
      "cell_type": "markdown",
      "id": "b814dc1d",
      "metadata": {
        "id": "b814dc1d"
      },
      "source": [
        "## Train and achieve >60% accuracy on the validation set (1 point)\n",
        "Make sure to optimize your `args` above.\n",
        "\n",
        "### Data Augmentation and Preprocessing\n",
        "\n",
        "Before training, we need to preprocess our images. **Data augmentations** create variations of training images (flips, crops) to help the model generalize better and prevent overfitting. We only augment training data - test data remains unchanged for consistent evaluation.\n",
        "\n",
        "**Why normalize?** Neural networks train better when inputs are centered around 0.\n"
      ]
    },
    {
      "cell_type": "code",
      "execution_count": 14,
      "id": "f619e4a3",
      "metadata": {
        "id": "f619e4a3",
        "colab": {
          "base_uri": "https://localhost:8080/",
          "height": 1000
        },
        "outputId": "3e91dc05-ba1a-4dec-a9be-ce77defe4e59"
      },
      "outputs": [
        {
          "output_type": "stream",
          "name": "stdout",
          "text": [
            "Loading dataset...\n"
          ]
        },
        {
          "output_type": "stream",
          "name": "stderr",
          "text": [
            "/usr/local/lib/python3.12/dist-packages/huggingface_hub/utils/_auth.py:94: UserWarning: \n",
            "The secret `HF_TOKEN` does not exist in your Colab secrets.\n",
            "To authenticate with the Hugging Face Hub, create a token in your settings tab (https://huggingface.co/settings/tokens), set it as secret in your Google Colab and restart your session.\n",
            "You will be able to reuse this secret in all of your notebooks.\n",
            "Please note that authentication is recommended but still optional to access public models or datasets.\n",
            "  warnings.warn(\n",
            "WARNING:matplotlib.image:Clipping input data to the valid range for imshow with RGB data ([0..1] for floats or [0..255] for integers). Got range [-2.4290657..2.7537313].\n"
          ]
        },
        {
          "output_type": "stream",
          "name": "stdout",
          "text": [
            "\n",
            "Dataset Info:\n",
            "Train samples: 5000\n",
            "Test samples: 5000\n",
            "Classes: ['airplane', 'automobile', 'bird', 'cat', 'deer']\n"
          ]
        },
        {
          "output_type": "display_data",
          "data": {
            "text/plain": [
              "<Figure size 640x480 with 1 Axes>"
            ],
            "image/png": "[encoded data removed]"
          },
          "metadata": {}
        },
        {
          "output_type": "stream",
          "name": "stdout",
          "text": [
            "Creating model...\n",
            "Epoch 0 [0/50] Loss: 1.7169\n",
            "Epoch 0 [10/50] Loss: 2.7716\n",
            "Epoch 0 [20/50] Loss: 1.9362\n",
            "Epoch 0 [30/50] Loss: 1.4065\n",
            "Epoch 0 [40/50] Loss: 1.2097\n",
            "Epoch 1 [0/50] Loss: 1.2299\n",
            "Epoch 1 [10/50] Loss: 1.3270\n",
            "Epoch 1 [20/50] Loss: 1.2769\n",
            "Epoch 1 [30/50] Loss: 1.1416\n",
            "Epoch 1 [40/50] Loss: 1.1127\n",
            "Validation Loss: 0.0102, Validation Accuracy: 0.59\n",
            "Epoch 2 [0/50] Loss: 1.0320\n",
            "Epoch 2 [10/50] Loss: 1.0429\n",
            "Epoch 2 [20/50] Loss: 0.9863\n",
            "Epoch 2 [30/50] Loss: 1.3196\n",
            "Epoch 2 [40/50] Loss: 0.9532\n",
            "Epoch 3 [0/50] Loss: 1.0416\n",
            "Epoch 3 [10/50] Loss: 0.9031\n",
            "Epoch 3 [20/50] Loss: 0.9886\n",
            "Epoch 3 [30/50] Loss: 1.0529\n",
            "Epoch 3 [40/50] Loss: 0.9341\n",
            "Validation Loss: 0.0091, Validation Accuracy: 0.61\n",
            "Epoch 4 [0/50] Loss: 1.0465\n",
            "Epoch 4 [10/50] Loss: 0.9140\n",
            "Epoch 4 [20/50] Loss: 1.0034\n",
            "Epoch 4 [30/50] Loss: 1.0708\n",
            "Epoch 4 [40/50] Loss: 1.0135\n",
            "Epoch 5 [0/50] Loss: 0.9851\n",
            "Epoch 5 [10/50] Loss: 1.0876\n",
            "Epoch 5 [20/50] Loss: 0.8855\n",
            "Epoch 5 [30/50] Loss: 0.9259\n",
            "Epoch 5 [40/50] Loss: 0.7411\n",
            "Validation Loss: 0.0084, Validation Accuracy: 0.66\n",
            "Epoch 6 [0/50] Loss: 0.8347\n",
            "Epoch 6 [10/50] Loss: 1.0307\n",
            "Epoch 6 [20/50] Loss: 0.9032\n",
            "Epoch 6 [30/50] Loss: 1.0130\n",
            "Epoch 6 [40/50] Loss: 1.0732\n"
          ]
        },
        {
          "output_type": "display_data",
          "data": {
            "text/plain": [
              "<Figure size 640x480 with 1 Axes>"
            ],
            "image/png": "[encoded data removed]"
          },
          "metadata": {}
        }
      ],
      "source": [
        "# Training transforms: augmentation + normalization\n",
        "transform_train = transforms.Compose(\n",
        "    [\n",
        "        transforms.RandomHorizontalFlip(),\n",
        "        transforms.RandomCrop(32, padding=4),\n",
        "        transforms.ToTensor(),\n",
        "        transforms.Normalize((0.4914, 0.4822, 0.4465), (0.2023, 0.1994, 0.2010)),\n",
        "    ]\n",
        ")\n",
        "\n",
        "# Test transforms: only normalization (no augmentation)\n",
        "transform_test = transforms.Compose(\n",
        "    [\n",
        "        transforms.ToTensor(),\n",
        "        transforms.Normalize((0.4914, 0.4822, 0.4465), (0.2023, 0.1994, 0.2010)),\n",
        "    ]\n",
        ")\n",
        "## Don't change the remaining code\n",
        "if __name__ == \"__main__\":\n",
        "    # Load the downsampled CIFAR-10 dataset\n",
        "    print(\"Loading dataset...\")\n",
        "    dataset = load_dataset(\"r-three/cifar10-5class-5k\")\n",
        "\n",
        "    # Class names\n",
        "    class_names = [\"airplane\", \"automobile\", \"bird\", \"cat\", \"deer\"]\n",
        "    num_classes = len(class_names)\n",
        "\n",
        "    print(f\"\\nDataset Info:\")\n",
        "    print(f\"Train samples: {len(dataset['train'])}\")\n",
        "    print(f\"Test samples: {len(dataset['test'])}\")\n",
        "    print(f\"Classes: {class_names}\")\n",
        "\n",
        "    # Create datasets\n",
        "    train_dataset = CIFAR5Dataset(dataset[\"train\"], transform=transform_train)\n",
        "    test_dataset = CIFAR5Dataset(dataset[\"test\"], transform=transform_test)\n",
        "\n",
        "    # Create dataloaders\n",
        "    train_loader = DataLoader(\n",
        "        train_dataset, batch_size=args[\"batch_size\"], shuffle=True\n",
        "    )\n",
        "    test_loader = DataLoader(test_dataset, batch_size=args[\"batch_size\"], shuffle=False)\n",
        "    visualize_cifar5(test_loader)\n",
        "\n",
        "    print(\"Creating model...\")\n",
        "    model = CNN(num_classes=args[\"num_classes\"])\n",
        "    # Move the model to the device\n",
        "    model = model.to(args[\"device\"])\n",
        "\n",
        "    train_losses, val_loss, val_acc = train(model, train_loader, test_loader, args)\n",
        "    plt.plot(train_losses)"
      ]
    },
    {
      "cell_type": "markdown",
      "source": [
        "### Reflection Questions\n",
        " (Not graded)\n",
        "\n",
        "After implementing convolutions from scratch and as matrix operations, consider these questions:\n",
        "\n",
        "**Efficiency and Parameters:**\n",
        "1. A fully connected layer connecting a 32 $\\times$ 32 RGB image to 64 output features has how many parameters? Compare this to a Conv2d(3, 64, 3) layer. Why is the convolutional layer so much more parameter-efficient?\n",
        "\n",
        "2. What makes convolutional layers \"translation equivariant\"? Why is this property useful for image tasks but might be less relevant for other types of data?\n",
        "\n",
        "**Storage and Memory:**\n",
        "\n",
        "3. Consider storing intermediate activations during backpropagation. For a 224 $\\times$ 224 input image passing through a Conv2d(3, 64, 3) versus a fully connected layer with 64 outputs - which requires more memory to store activations?\n",
        "\n",
        "5. When implementing convolution as a matrix-vector product, the matrix is very sparse (mostly zeros). Modern implementations don't actually create this full matrix. Why not? What memory savings does this provide for a 1000 $\\times$ 1000 image with a 3 $\\times$ 3 kernel?\n",
        "\n",
        "**Architecture Design:**\n",
        "\n",
        "6. Why do CNNs typically use small kernels (3 $\\times$ 3, 5 $\\times$ 5) stacked in multiple layers rather than one large kernel (e.g., 11 $\\times$ 11) in a single layer? Consider both receptive field and parameter count.\n"
      ],
      "metadata": {
        "id": "pQYerYs3_uD8"
      },
      "id": "pQYerYs3_uD8"
    },
    {
      "cell_type": "markdown",
      "source": [
        "# Collaboration / External Help\n",
        "Disclose any help you used (LLM usage, blogs, search, Github links, etc) and collaborations with your classmates. If you  completed the homework on your own, you can leave this part empty.\n",
        "\n",
        "> TODO"
      ],
      "metadata": {
        "id": "P2XHgIgcAXae"
      },
      "id": "P2XHgIgcAXae"
    },
    {
      "cell_type": "code",
      "execution_count": 14,
      "id": "300d5941",
      "metadata": {
        "id": "300d5941"
      },
      "outputs": [],
      "source": []
    }
  ],
  "metadata": {
    "kernelspec": {
      "display_name": ".venv",
      "language": "python",
      "name": "python3"
    },
    "language_info": {
      "codemirror_mode": {
        "name": "ipython",
        "version": 3
      },
      "file_extension": ".py",
      "mimetype": "text/x-python",
      "name": "python",
      "nbconvert_exporter": "python",
      "pygments_lexer": "ipython3",
      "version": "3.12.11"
    },
    "colab": {
      "provenance": [],
      "include_colab_link": true
    }
  },
  "nbformat": 4,
  "nbformat_minor": 5
}