{
  "cells": [
    {
      "cell_type": "markdown",
      "metadata": {
        "id": "view-in-github",
        "colab_type": "text"
      },
      "source": [
        "<a href=\"https://colab.research.google.com/github/AfraAd/CSC413-Homeworks/blob/main/Fall25_HW3_Autodiff.ipynb\" target=\"_parent\"><img src=\"https://colab.research.google.com/assets/colab-badge.svg\" alt=\"Open In Colab\"/></a>"
      ]
    },
    {
      "cell_type": "markdown",
      "id": "10842166",
      "metadata": {
        "id": "10842166"
      },
      "source": [
        "# Homework 3: Autodiff\n",
        "\n",
        "This week, you will be a set of functions to perform automatic differentiation (autodiff) and train a multi-layer perceptron using that framework. The assignment has three key tasks:\n",
        "\n",
        "1. Complete the \"Operation\" class, which runs forward and backward pass for input vectors (Section 1.a, Section 2.a).\n",
        "2. Complete the \"Node\" class, which forms a logical computation unit in a computation graph (Section 1.b).\n",
        "3. Train an MLP built using your autodiff framework (Section 2).\n",
        "\n",
        "Autodiff is the foundation of how modern neural networks are trained. This assignemnet gives you a taste of how it operates under the hood. Let's build it step-by-step!\n",
        "\n",
        "**Some helpful links** (if you want to familiarize yourself with frameworks implementing autodiff)\n",
        "\n",
        "* https://www.cs.toronto.edu/~rgrosse/courses/csc421_2019/readings/L06%20Automatic%20Differentiation.pdf\n",
        "* https://github.com/HIPS/autograd/blob/master/docs/tutorial.md\n",
        "* https://videolectures.net/videos/deeplearning2017_johnson_automatic_differentiation"
      ]
    },
    {
      "cell_type": "markdown",
      "id": "98e4c04d",
      "metadata": {
        "id": "98e4c04d"
      },
      "source": [
        "**! Do not change the following code**"
      ]
    },
    {
      "cell_type": "code",
      "execution_count": 61,
      "id": "a80d9fe1",
      "metadata": {
        "id": "a80d9fe1"
      },
      "outputs": [],
      "source": [
        "import random\n",
        "import numpy as np\n",
        "from sklearn.preprocessing import OneHotEncoder\n",
        "from sklearn.datasets import make_moons\n",
        "# import networkx as nx\n",
        "from graphviz import Digraph\n",
        "import matplotlib.pyplot as plt"
      ]
    },
    {
      "cell_type": "markdown",
      "id": "4c5a8182",
      "metadata": {
        "id": "4c5a8182"
      },
      "source": [
        "# Part 1: Autodiff from scratch (4 points)"
      ]
    },
    {
      "cell_type": "markdown",
      "id": "6f93cc02",
      "metadata": {
        "id": "6f93cc02"
      },
      "source": [
        "## 1.a.Build arithmetic operation classes (2 points)\n",
        "First, we will define a class of functions that compute vector operations and gradients with respect to their inputs. The child classes of Operation -- Add(), Mul(), ReLU(), MatMul() -- implements two key methods:\n",
        "* **forward()**: performs arithmetic operation on the input vectors.\n",
        "* **_backward()**: computes the gradients with respect to the input vectors.\n",
        "\n",
        "The parent Operation class calls **unbroacast()** function during the backward pass. This is necessary because NumPy sometimes \"broadcasts\" smaller arrays to make their shapes compatible with the larger arrays. For example:\n",
        "\n",
        "```\n",
        "A = np.random.randn(3,4)\n",
        "B = np.random.randn(3,1)\n",
        "O = A + B  # produces an array of shape (3,4)\n",
        "```\n",
        "\n",
        "Here, $B$ is implicitly expanded across 4 columns to match the shape of $A$. When computing the gradient of $O$ with respect of $A$ and $B$, the shapes must match the original inputs:\n",
        "\n",
        "$$\\frac{\\partial O}{\\partial A} \\in R^{3 \\times 4}, \\frac{\\partial O}{\\partial B} \\in R^{3 \\times 1}$$\n",
        "\n",
        "In case of addition, both gradients are equal to the upstream gradient $\\frac{\\partial O}{\\partial O}$, which has shape 3 x 4. To make the gradient for $B$ match its orginal shape, we must sum across the broadcasted dimension (the 4 columns). The **unbroadcast()** function handles this adjustment; it sums and reshapes gradients to undo broadcasting from the forward pass."
      ]
    },
    {
      "cell_type": "code",
      "execution_count": 62,
      "id": "af0687b0",
      "metadata": {
        "id": "af0687b0"
      },
      "outputs": [],
      "source": [
        "################## DO NOT CHANGE ################\n",
        "def unbroadcast(grad, target):\n",
        "\n",
        "    while grad.ndim > target.ndim:\n",
        "        grad = grad.sum(axis=0)\n",
        "    for axis, size in enumerate(target.shape):\n",
        "        if size == 1:\n",
        "            grad = grad.sum(axis=axis, keepdims=True)\n",
        "    return grad\n",
        "\n",
        "class Operation:\n",
        "    def forward(self, *inputs):\n",
        "        raise NotImplementedError(\"Needs to be implemented in the child class\")\n",
        "\n",
        "    def backward(self, grad_upstream, *inputs):\n",
        "        grad = []\n",
        "        grad_out = self._backward(grad_upstream, *inputs)\n",
        "        for idx, g in enumerate(grad_out):\n",
        "            grad.append(unbroadcast(g, inputs[idx]))\n",
        "        return grad\n",
        "\n",
        "#################################################"
      ]
    },
    {
      "cell_type": "code",
      "execution_count": 63,
      "id": "9bfdbb0e",
      "metadata": {
        "id": "9bfdbb0e"
      },
      "outputs": [],
      "source": [
        "class Add(Operation):\n",
        "\n",
        "    def __repr__(self):\n",
        "        return \"+\"\n",
        "\n",
        "    def forward(self, x: np.ndarray, y: np.ndarray):\n",
        "        ######################### YOUR CODE #########################\n",
        "        ### TODO: Return the result of the operation’s forward pass\n",
        "        return x + y\n",
        "        #############################################################\n",
        "\n",
        "    def _backward(self, grad_upstream: np.ndarray, x: np.ndarray, y: np.ndarray):\n",
        "        ######################### YOUR CODE #########################\n",
        "        ### TODO: Return the gradients w.r.t. x, y\n",
        "        #   HINT: right now, these values are initialized randomly with random size\n",
        "        return [grad_upstream, grad_upstream]\n",
        "        #############################################################\n",
        "\n",
        "class Mul(Operation):\n",
        "\n",
        "    def __repr__(self):\n",
        "        return \"*\"\n",
        "\n",
        "    def forward(self, x: np.ndarray, y: np.ndarray):\n",
        "        ######################### YOUR CODE #########################\n",
        "        ### TODO: Return the result of the operation’s forward pass\n",
        "        return x*y\n",
        "        #############################################################\n",
        "\n",
        "    def _backward(self, grad_upstream: np.ndarray, x: np.ndarray, y: np.ndarray):\n",
        "        ######################### YOUR CODE #########################\n",
        "        ### TODO: Return the gradients w.r.t. x, y\n",
        "        return [grad_upstream*y, grad_upstream*x]\n",
        "        #############################################################\n",
        "\n",
        "class ReLU(Operation):\n",
        "\n",
        "    def __repr__(self):\n",
        "        return \"ReLU\"\n",
        "\n",
        "    def forward(self, x: np.ndarray):\n",
        "        ######################### YOUR CODE #########################\n",
        "        ### TODO: Return the result of the operation’s forward pass\n",
        "        return np.maximum(x, 0)\n",
        "        #############################################################\n",
        "\n",
        "    def _backward(self, grad_upstream: np.ndarray, x: np.ndarray):\n",
        "        ######################### YOUR CODE #########################\n",
        "        ### TODO: Return the gradients w.r.t.\n",
        "        return [(x > 0) * grad_upstream]\n",
        "        #############################################################\n",
        "\n",
        "class MatMul(Operation):\n",
        "\n",
        "    def __repr__(self):\n",
        "        return \"@\"\n",
        "\n",
        "    def forward(self, x: np.ndarray, y: np.ndarray):\n",
        "        ######################### YOUR CODE #########################\n",
        "        ### TODO: Return the result of the operation’s forward pass\n",
        "        return x @ y\n",
        "        #############################################################\n",
        "\n",
        "    def _backward(self, grad_upstream: np.ndarray, x: np.ndarray, y: np.ndarray):\n",
        "\n",
        "        ######################### YOUR CODE #########################\n",
        "        ### TODO: Return the gradients w.r.t. x, y\n",
        "        return [grad_upstream @ y.T, x.T @ grad_upstream]\n",
        "        #############################################################"
      ]
    },
    {
      "cell_type": "markdown",
      "id": "6c23ffc2",
      "metadata": {
        "id": "6c23ffc2"
      },
      "source": [
        "You can run the sanity check for your code by doing the following:\n",
        "\n",
        "**Forward**\n",
        "```\n",
        "x = np.array(...?) # your input value x\n",
        "y = np.array(...?) # your input value y\n",
        "op = Add()         # or any other operation you want to test\n",
        "out = op.forward(x, y)\n",
        "print(np.allclose(out, expected_value))\n",
        "```\n",
        "\n",
        "**Backward**\n",
        "```\n",
        "grad_upstream = np.ones(...?) # what should the shape of the upstream gradient be?\n",
        "grad1, grad2 = op.backward(grad_upstream, x, y)\n",
        "print(np.allclose(grad1, expected_value1))\n",
        "print(np.allclose(grad2, expected_value2))\n",
        "```"
      ]
    },
    {
      "cell_type": "markdown",
      "id": "d5cab0ea",
      "metadata": {
        "id": "d5cab0ea"
      },
      "source": [
        "## 1.b Node class (2 points)\n",
        "\n",
        "With the Operation class set up, the next step is to complete the Node class. At a high-level, the Node class works as follows:\n",
        "\n",
        "* A **Node** represents a logical unit of computation in the computation graph.\n",
        "* Every Node stores a value (array).\n",
        "* An input Node (or value Node) only stores its value. Any other Node produced as a result of Operation stores the 1. Operation used to create the Node and 2. the reference to its parent Nodes (inputs to the Operation).\n",
        "* Except for the input Node, the value of a Node is computed only when **forward()** method is called (see Note #1 below).\n",
        "* The **backward()** method applies the chain rule to propagate and accumulate gradients for each Node (self.grad).\n",
        "* **topo_sort()** traverses the set of Nodes and sorts them in topological order. This ordering is necessary for both forward() and backward() functions to process the Nodes in a correct sequence.\n",
        "\n",
        "**NOTE**\n",
        "\n",
        "1. The apporach that delays the computation of the forward values is called *lazy evaluation*, which was used in frameworks like Theano and Tensorflow 1.x. In contrast, modern PyTorch and Tensorflow 2.x implement *eager execution*, which computes the values immediately as they are created. Lazy evaluation can still be beneficial, as it allows for global graph-level optimizations.\n",
        "2. You can visualize the computation graph formed by the Nodes using visualize_computation_graph() function provided below."
      ]
    },
    {
      "cell_type": "code",
      "execution_count": 64,
      "id": "de0faaa2",
      "metadata": {
        "id": "de0faaa2"
      },
      "outputs": [],
      "source": [
        "def topo_sort(node):\n",
        "    ######################### YOUR CODE #########################\n",
        "    # TODO: Use a graph traversal algorithm to generate a topological\n",
        "    #       ordering of the nodes, following the dependencies in the\n",
        "    #       computation graph.\n",
        "    topo_order = []\n",
        "    visited = set()\n",
        "\n",
        "    def _visit(n):\n",
        "        if n is None:\n",
        "            return\n",
        "        nid = id(n)\n",
        "        if nid in visited:\n",
        "            return\n",
        "        visited.add(nid)\n",
        "        for p in getattr(n, \"parents\", ()):\n",
        "            _visit(p)\n",
        "        topo_order.append(n)\n",
        "\n",
        "    _visit(node)\n",
        "    return topo_order\n",
        "    ##############################################################\n",
        "\n",
        "class Node:\n",
        "    def __init__(self, name=None, value=None):\n",
        "        self.name = name\n",
        "        self.value = np.array(value)\n",
        "        self.op = None\n",
        "        self.parents = []\n",
        "        self.grad = 0\n",
        "\n",
        "    def __repr__(self):\n",
        "        return f\"(value {self.value}, op {self.op}, parents {self.parents})\"\n",
        "\n",
        "    def forward(self):\n",
        "\n",
        "        # Perform topological sort of the nodes\n",
        "        topo_order = topo_sort(self)\n",
        "        # Iterate through the sorted nodes to compute and store each node’s forward value.\n",
        "        for node in topo_order:\n",
        "            if node.op is not None:\n",
        "                #################### YOUR CODE ####################\n",
        "                # TODO: Compute the forward value of the Node in the graph\n",
        "                parent_values = [p.value for p in node.parents]\n",
        "                node.value = node.op.forward(*parent_values)\n",
        "                ###################################################\n",
        "\n",
        "    def backward(self):\n",
        "\n",
        "        # Perform topological sort of the nodes\n",
        "        topo_order = topo_sort(self)\n",
        "        # Set the gradients w.r.t current node as 1\n",
        "        self.grad = np.ones_like(self.value)\n",
        "\n",
        "        # Iterate through the sorted nodes to compute and accumulate gradients for each node.\n",
        "        for node in topo_order[::-1]:\n",
        "            if node.op is not None:\n",
        "                ###################### YOUR CODE ###############################\n",
        "                # TODO: Perform backward pass of the current node\n",
        "                #       And propagate the current node's gradient to its parents\n",
        "                parent_values = [p.value for p in node.parents]\n",
        "                grads = node.op._backward(self.grad, *parent_values)\n",
        "                for p, g in zip(node.parents, grads):\n",
        "                  if isinstance(p.grad, int):\n",
        "                      p.grad = g\n",
        "                  else:\n",
        "                      p.grad += g\n",
        "                ###############################################################\n",
        "\n",
        "def get_node(parents, op, name=None, value=None):\n",
        "    if isinstance(value, np.ndarray):\n",
        "        n = Node(name=name, value=value)\n",
        "    else:\n",
        "        n = Node(name=name, value=[[value]])\n",
        "    n = Node(name=name, value=value)\n",
        "    n.parents=parents\n",
        "    n.op=op\n",
        "    return n"
      ]
    },
    {
      "cell_type": "markdown",
      "id": "a01265ac",
      "metadata": {
        "id": "a01265ac"
      },
      "source": [
        "As a sanity check, you can try creating a computation graph and run forward and backward passes on them:\n",
        "\n",
        "```\n",
        "node_a = get_node(name='node_a', value=np.random.randn(2,2), parents=[], op=None)\n",
        "node_b = get_node(name='node_b', value=inp.random.randn(2,2), parents=[], op=None)\n",
        "node_c = get_node(name='node_c', parents=[node_a, node_b], op = Add())\n",
        "final_node = get_node(name='final_node', parents=[node_c, node_a], op = Some other operation)\n",
        "\n",
        "final_node.foward()\n",
        "np.allclose(node_c.value, expected_value)\n",
        "np.allclose(final_node.value, expected_value)\n",
        "\n",
        "final_node.backward()\n",
        "np.allclose(node_c.grad, expected_value)\n",
        "np.allclose(final_node.grad, expected_value)\n",
        "\n",
        "```\n",
        "Also, you can check the comptuation graph formed by these Nodes using visualize_computation_graph(final_node)"
      ]
    },
    {
      "cell_type": "code",
      "execution_count": 65,
      "id": "76cf6e22",
      "metadata": {
        "id": "76cf6e22"
      },
      "outputs": [],
      "source": [
        "def visualize_computation_graph(node):\n",
        "    dot = Digraph(format=\"png\", graph_attr={\"rankdir\": \"LR\"})\n",
        "    visited = set()\n",
        "\n",
        "    def add_nodes(n):\n",
        "        if n in visited:\n",
        "            return\n",
        "        visited.add(n)\n",
        "\n",
        "        # Add current node\n",
        "        dot.node(str(id(n)), label=f\"{str(n.name)}\\nop: {str(n.op)}\\nshape: {n.value.shape}\")\n",
        "\n",
        "        # Add edges to parents\n",
        "        if hasattr(n, \"parents\"):\n",
        "            for p in n.parents:\n",
        "                dot.edge(str(id(p)), str(id(n)))\n",
        "                add_nodes(p)\n",
        "\n",
        "    add_nodes(node)\n",
        "    return dot"
      ]
    },
    {
      "cell_type": "code",
      "execution_count": 66,
      "id": "TLr6-I7Nxb6-",
      "metadata": {
        "id": "TLr6-I7Nxb6-",
        "colab": {
          "base_uri": "https://localhost:8080/"
        },
        "outputId": "f9952233-cb65-4d2b-c683-a949b4d8fa4b"
      },
      "outputs": [
        {
          "output_type": "stream",
          "name": "stdout",
          "text": [
            "node_c value:\n",
            " [[-2.01597217]]\n",
            "final_node value:\n",
            " [[1.52045057]]\n",
            "node_c grad:\n",
            " [[-0.75420216]]\n",
            "node_a grad:\n",
            " [[-1.01597217]]\n",
            "final_node grad:\n",
            " [[1.]]\n"
          ]
        }
      ],
      "source": [
        "# -------------------------\n",
        "# Build computation graph\n",
        "# -------------------------\n",
        "node_a = get_node(name='node_a', value=np.random.randn(1,1), parents=[], op=None)\n",
        "node_b = get_node(name='node_b', value=np.random.randn(1,1), parents=[], op=None)\n",
        "node_c = get_node(name='node_c', parents=[node_a, node_b], op = Add())\n",
        "final_node = get_node(name='final_node', parents=[node_c, node_a], op = Mul())\n",
        "\n",
        "# -------------------------\n",
        "# Forward pass\n",
        "# -------------------------\n",
        "final_node.forward()\n",
        "print(\"node_c value:\\n\", node_c.value)\n",
        "print(\"final_node value:\\n\", final_node.value)\n",
        "\n",
        "# -------------------------\n",
        "# Backward pass\n",
        "# -------------------------\n",
        "final_node.backward()\n",
        "print(\"node_c grad:\\n\", node_c.grad)\n",
        "print(\"node_a grad:\\n\", node_a.grad)\n",
        "print(\"final_node grad:\\n\", final_node.grad)\n",
        "\n",
        "# -------------------------\n",
        "# Visualize graph\n",
        "# -------------------------\n",
        "dot = visualize_computation_graph(final_node)"
      ]
    },
    {
      "cell_type": "markdown",
      "id": "68b3e53b",
      "metadata": {
        "id": "68b3e53b"
      },
      "source": [
        "# Part 2: Build MLP with autodiff (2.5 points)\n",
        "\n",
        "Now you will use the autodiff framework you built to train an MLP model. In week 2, you trained an MLP by explicitly applying the derived partial derivatives. This time, you will rely on your autodiff framework to automatically compute and propagate the gradients through the network!\n",
        "\n",
        "For initializing the weights and biases of the layer, use the same initialization that has been provided to you in week 2 homework."
      ]
    },
    {
      "cell_type": "markdown",
      "id": "48c9cea7",
      "metadata": {
        "id": "48c9cea7"
      },
      "source": [
        "## 2.a Build a basic MLP model (0.5 point)"
      ]
    },
    {
      "cell_type": "code",
      "execution_count": 67,
      "id": "692e82e3",
      "metadata": {
        "id": "692e82e3"
      },
      "outputs": [],
      "source": [
        "class Layer:\n",
        "    def __init__(self, input_dim, output_dim):\n",
        "        ############### YOUR CODE ################\n",
        "        # TODO: use the Node() class to produce\n",
        "        #       weights and biases of the layer\n",
        "        #       Implement the same initialization that has been used\n",
        "        #       from week 2 homework.\n",
        "        w_val = np.random.randn(output_dim, input_dim) * np.sqrt(2.0 / input_dim)\n",
        "        b_val = np.zeros((output_dim, 1))\n",
        "        self.weights = get_node(parents=[], op=None, name=\"weights\", value=w_val)\n",
        "        self.biases  = get_node(parents=[], op=None, name=\"biases\",  value=b_val)\n",
        "        ###########################################\n",
        "\n",
        "    def __call__(self, X: Node) -> Node:\n",
        "        ############### YOUR CODE ################\n",
        "        ## TODO: Use get_node() to compute (Wx + b)\n",
        "        #        then apply ReLU to the output\n",
        "        mul = get_node(name='mul', parents=[self.weights, X], op=MatMul())\n",
        "        add = get_node(name='add', parents=[mul, self.biases], op=Add())\n",
        "        out = get_node(name='out', parents=[add], op=ReLU())\n",
        "        return out\n",
        "        ###########################################\n",
        "\n",
        "    def parameters(self):\n",
        "        return [self.weights, self.biases]"
      ]
    },
    {
      "cell_type": "code",
      "execution_count": 68,
      "id": "3f89c6f4",
      "metadata": {
        "id": "3f89c6f4"
      },
      "outputs": [],
      "source": [
        "class LinearMLP:\n",
        "    def __init__(self, layer_widths):\n",
        "        self.layers = []\n",
        "        ############### YOUR CODE ################\n",
        "        ## TODO: Create the layers of MLP\n",
        "        ##########################################\n",
        "        self.layers = [Layer(input_dim, output_dim) for input_dim, output_dim in zip(layer_widths[:-1], layer_widths[1:])]\n",
        "\n",
        "    def __call__(self, inputs: Node) -> Node:\n",
        "        a = inputs\n",
        "        ############### YOUR CODE ################\n",
        "        ## TODO: Implement forward pass of the MLP\n",
        "        for layer in self.layers:\n",
        "            a = layer(a)\n",
        "        return a\n",
        "        ##########################################\n",
        "\n",
        "\n",
        "    def parameters(self):\n",
        "        return [p for layer in self.layers for p in layer.parameters()]\n",
        "\n",
        "    def zero_grad(self):\n",
        "        ################## YOUR CODE ####################\n",
        "        # TODO: Set gradients of all the nodes to zero\n",
        "        #       This function is called during training\n",
        "        #       to empty accumulated gradients\n",
        "        for p in self.parameters():\n",
        "            p.grad = np.zeros_like(p.grad)\n",
        "        #################################################"
      ]
    },
    {
      "cell_type": "markdown",
      "id": "67352cdf",
      "metadata": {
        "id": "67352cdf"
      },
      "source": [
        "You can test your Layer code by building a simple layer to begin with:\n",
        "\n",
        "```\n",
        "layer = Layer(dim1, dim2)\n",
        "x_input = get_node(value=np.random.randn(dim, dim), parents=[], op=None)\n",
        "out_node = layer(x_input)\n",
        "out_node.forward()\n",
        "print(np.allclose(out_node.value, expected_value))\n",
        "```\n",
        "\n",
        "Similarly, for MLP code, you can build a mini model:\n",
        "\n",
        "```\n",
        "model = LinearMLP([2, 4, 2]) # 2 layer MLP, input dim=2, output dim=2\n",
        "x_input = get_node(value=np.random.randn(2,4), parents=[], op=None)\n",
        "out = model(x_input)\n",
        "out.forward()\n",
        "out.backward()\n",
        "\n",
        "print(np.allclose(model.parameters()[0].grad, expected_value))\n",
        "print(np.allclose(model.parameters()[1].grad, expected_value))\n",
        "\n",
        "```"
      ]
    },
    {
      "cell_type": "markdown",
      "id": "3dd9a3ed",
      "metadata": {
        "id": "3dd9a3ed"
      },
      "source": [
        "## 2.b Implement Softmax, cross-entropy loss operations (1 point)\n",
        "\n",
        "Before training an MLP, we need to implement additional operations for softmax and cross-entropy loss. There are two possible approaches:\n",
        "* Implement Softmax() and CrossEntropyLoss() separately, then call them in order during training.\n",
        "* Implement SoftmaxCrossEntropyLoss() as a single Operation, which combines both steps and simplifies the gradient computation.\n",
        "\n",
        "Softmax and CrossEntropyLoss operations are atomic, but in practice, many deep learning grameworks combine them as a single operation (second version) for efficiency and numerical stability. Here, you will implement both versions to see they produce the same output. You can do the math to derive separate backpropagations for each approach, and see that they return the same values."
      ]
    },
    {
      "cell_type": "code",
      "execution_count": 69,
      "id": "386f5cc0",
      "metadata": {
        "id": "386f5cc0"
      },
      "outputs": [],
      "source": [
        "class Softmax(Operation):\n",
        "    def __repr__(self):\n",
        "        return \"Softmax\"\n",
        "\n",
        "    def forward(self, x: np.ndarray):\n",
        "        exp = np.exp(x - np.max(x, axis=0, keepdims=True))\n",
        "        res = exp / np.sum(exp, axis=0, keepdims=True)\n",
        "        return res\n",
        "\n",
        "    def _backward(self, grad_upstream: np.ndarray, x: np.ndarray):\n",
        "        ############### YOUR CODE ###########################\n",
        "        ### TODO: Return the gradients w.r.t. x\n",
        "        s = self.forward(x).reshape(-1, 1)\n",
        "        # Jacobian: s * I - s @ s.T\n",
        "        jacobian = np.diagflat(s) - np.dot(s, s.T)\n",
        "        grad_x = np.dot(jacobian, grad_upstream)\n",
        "        return [grad_x]\n",
        "        #####################################################\n",
        "\n",
        "class CrossEntropyLoss(Operation):\n",
        "    def __repr__(self):\n",
        "        return \"CrossEntropyLoss\"\n",
        "\n",
        "    def forward(self, pred: np.ndarray, target: np.ndarray):\n",
        "        loss = -np.sum(target * np.log(pred + 1e-8)) / target.shape[1]\n",
        "        return loss\n",
        "\n",
        "    def _backward(self, grad_upstream: np.ndarray, pred: np.ndarray, target: np.ndarray):\n",
        "        ############### YOUR CODE ###########################\n",
        "        ### TODO: Return the gradients w.r.t. pred, target\n",
        "        sol1 = grad_upstream * (-target / (pred + 1e-8)) / target.shape[1]\n",
        "        sol2 = grad_upstream * (-np.log(pred + 1e-8)) / target.shape[1]\n",
        "        return [sol1, sol2]\n",
        "        #####################################################\n",
        "\n",
        "class SoftmaxCrossEntropyLoss(Operation):\n",
        "    def __repr__(self):\n",
        "        return \"Softmax+CE\"\n",
        "\n",
        "    def forward(self, logit: np.ndarray, target: np.ndarray):\n",
        "        ############### YOUR CODE ###########################\n",
        "        # TODO: Implement softmax, and then cross entropy loss\n",
        "        #       Return the cross entropy loss of the logit and target\n",
        "        softmax = Softmax().forward(logit)\n",
        "        ce_loss = CrossEntropyLoss().forward(softmax, target)\n",
        "        return ce_loss\n",
        "        #####################################################\n",
        "\n",
        "    def _backward(self, grad_upstream: np.ndarray, logit: np.ndarray, target: np.ndarray):\n",
        "        ############### YOUR CODE ###########################\n",
        "        ### TODO: Return the gradients w.r.t. logit, target\n",
        "        sol1 = Softmax()._backward(grad_upstream, logit)[0]\n",
        "        sol2 = CrossEntropyLoss()._backward(grad_upstream, logit, target)[0]\n",
        "        return [sol1, sol2]\n",
        "        #####################################################"
      ]
    },
    {
      "cell_type": "markdown",
      "id": "9ce85b47",
      "metadata": {
        "id": "9ce85b47"
      },
      "source": [
        "When you implement them correctly, you should see that the two approaches return the same forward and backward values:\n",
        "\n",
        "```\n",
        "logit1 = Node(value=some_fixed_value)\n",
        "target1 = Node(value=some_target_value)\n",
        "softmax_logit = get_node(parents=[logit1], op=Softmax())\n",
        "final_loss1 =  get_node(parents=[softmax_logit, target1], op=CrossEntropyLoss())\n",
        "final_loss1.forward()\n",
        "final_loss1.backward()\n",
        "print(np.allclose(logit1.grad, expected_value))\n",
        "```\n",
        "\n",
        "```\n",
        "logit2 = Node(value=same_value_as_logit1)\n",
        "target2 = Node(value=same_value_as_target1)\n",
        "final_loss2 = get_node(parents=[logit2, target2], op=SoftmaxCrossEntropyLoss())\n",
        "final_loss2.forward()\n",
        "final_loss2.backward()\n",
        "print(np.allclose(final_loss2.value, final_loss1.value))\n",
        "print(np.allclose(logit2.grad, logit1.grad))\n",
        "```"
      ]
    },
    {
      "cell_type": "code",
      "source": [
        "logit1 = get_node(value=np.array([[2]]), parents=[], op=None)\n",
        "target1 = get_node(value=np.array([[3]]), parents=[], op=None)\n",
        "\n",
        "softmax_logit = get_node(parents=[logit1], op=Softmax())\n",
        "final_loss1 = get_node(parents=[softmax_logit, target1], op=CrossEntropyLoss())\n",
        "\n",
        "final_loss1.forward()\n",
        "final_loss1.backward()\n",
        "\n",
        "print(final_loss1.grad)\n",
        "dot = visualize_computation_graph(final_loss1)"
      ],
      "metadata": {
        "id": "a9F1yTN7SFkY",
        "outputId": "803523ed-fd2d-41c3-9486-60dc7c627805",
        "colab": {
          "base_uri": "https://localhost:8080/"
        }
      },
      "id": "a9F1yTN7SFkY",
      "execution_count": 70,
      "outputs": [
        {
          "output_type": "stream",
          "name": "stdout",
          "text": [
            "1.0\n"
          ]
        }
      ]
    },
    {
      "cell_type": "markdown",
      "id": "f8802ae3",
      "metadata": {
        "id": "f8802ae3"
      },
      "source": [
        "## 2.c Train the MLP (1 point)\n",
        "\n",
        "Finally, we can train the autodiff-based MLP model! Complete the step_network() function below. As you train, check whether your model can reach 90%+ accuracy within 500 steps (it should given the random seed provided, if every operation is implemented correctly). Once the training is complete, you can visualize the convergence by running the visualize_convergence() function below."
      ]
    },
    {
      "cell_type": "code",
      "execution_count": 71,
      "id": "af675600",
      "metadata": {
        "id": "af675600"
      },
      "outputs": [],
      "source": [
        "#################### DO NOT MODIFY ####################\n",
        "\n",
        "def visualize_convergence(model, X, y):\n",
        "\n",
        "    h = 0.25\n",
        "    x_min, x_max = X[:, 0].min() - 1, X[:, 0].max() + 1\n",
        "    y_min, y_max = X[:, 1].min() - 1, X[:, 1].max() + 1\n",
        "    xx, yy = np.meshgrid(np.arange(x_min, x_max, h),\n",
        "                        np.arange(y_min, y_max, h))\n",
        "    Xmesh = np.c_[xx.ravel(), yy.ravel()]\n",
        "\n",
        "    model_inputs = Node(value=Xmesh.T)\n",
        "    out = model(model_inputs)\n",
        "    out.forward()\n",
        "    pred = np.argmax(out.value, axis=0)\n",
        "\n",
        "    Z = np.where(pred > 0, 1, -1).astype(int)\n",
        "    Z = Z.reshape(xx.shape)\n",
        "\n",
        "    fig = plt.figure()\n",
        "    plt.contourf(xx, yy, Z, levels=[-1,0,2],alpha=0.8, cmap=plt.cm.coolwarm)\n",
        "    plt.scatter(X[:, 0], X[:, 1], c=y, s=40, cmap=plt.cm.coolwarm)\n",
        "    plt.xlim(xx.min(), xx.max())\n",
        "    plt.ylim(yy.min(), yy.max())"
      ]
    },
    {
      "cell_type": "code",
      "execution_count": 72,
      "id": "ea69ba86",
      "metadata": {
        "id": "ea69ba86",
        "colab": {
          "base_uri": "https://localhost:8080/",
          "height": 462
        },
        "outputId": "0c8869b8-2ddc-4185-c167-95f2e418d44a"
      },
      "outputs": [
        {
          "output_type": "execute_result",
          "data": {
            "text/plain": [
              "<matplotlib.collections.PathCollection at 0x7eeae0ab8da0>"
            ]
          },
          "metadata": {},
          "execution_count": 72
        },
        {
          "output_type": "display_data",
          "data": {
            "text/plain": [
              "<Figure size 500x500 with 1 Axes>"
            ],
            "image/png": "[encoded data removed]"
          },
          "metadata": {}
        }
      ],
      "source": [
        "#################### DO NOT MODIFY ####################\n",
        "X, y = make_moons(n_samples=100, noise=0.1)\n",
        "y = y*2 - 1 # make y be -1 or 1\n",
        "plt.figure(figsize=(5,5))\n",
        "plt.scatter(X[:,0], X[:,1], c=y, s=20, cmap='jet')"
      ]
    },
    {
      "cell_type": "code",
      "execution_count": 73,
      "id": "d6d7b3c2",
      "metadata": {
        "id": "d6d7b3c2",
        "colab": {
          "base_uri": "https://localhost:8080/",
          "height": 356
        },
        "outputId": "4232fe43-8a8c-4f9c-a994-01d2221e95fc"
      },
      "outputs": [
        {
          "output_type": "error",
          "ename": "ValueError",
          "evalue": "matmul: Input operand 1 has a mismatch in its core dimension 0, with gufunc signature (n?,k),(k,m?)->(n?,m?) (size 16 is different from 100)",
          "traceback": [
            "\u001b[0;31m---------------------------------------------------------------------------\u001b[0m",
            "\u001b[0;31mValueError\u001b[0m                                Traceback (most recent call last)",
            "\u001b[0;32m/tmp/ipython-input-429458580.py\u001b[0m in \u001b[0;36m<cell line: 0>\u001b[0;34m()\u001b[0m\n\u001b[1;32m      8\u001b[0m \u001b[0mlayer_output\u001b[0m \u001b[0;34m=\u001b[0m \u001b[0mmodel\u001b[0m\u001b[0;34m(\u001b[0m\u001b[0mX_node\u001b[0m\u001b[0;34m)\u001b[0m\u001b[0;34m\u001b[0m\u001b[0;34m\u001b[0m\u001b[0m\n\u001b[1;32m      9\u001b[0m \u001b[0mloss\u001b[0m \u001b[0;34m=\u001b[0m \u001b[0mget_node\u001b[0m\u001b[0;34m(\u001b[0m\u001b[0mname\u001b[0m\u001b[0;34m=\u001b[0m\u001b[0;34m'loss'\u001b[0m\u001b[0;34m,\u001b[0m \u001b[0mop\u001b[0m\u001b[0;34m=\u001b[0m\u001b[0mSoftmaxCrossEntropyLoss\u001b[0m\u001b[0;34m(\u001b[0m\u001b[0;34m)\u001b[0m\u001b[0;34m,\u001b[0m \u001b[0mparents\u001b[0m\u001b[0;34m=\u001b[0m\u001b[0;34m[\u001b[0m\u001b[0mlayer_output\u001b[0m\u001b[0;34m,\u001b[0m \u001b[0my_node\u001b[0m\u001b[0;34m]\u001b[0m\u001b[0;34m)\u001b[0m\u001b[0;34m\u001b[0m\u001b[0;34m\u001b[0m\u001b[0m\n\u001b[0;32m---> 10\u001b[0;31m \u001b[0mloss\u001b[0m\u001b[0;34m.\u001b[0m\u001b[0mforward\u001b[0m\u001b[0;34m(\u001b[0m\u001b[0;34m)\u001b[0m\u001b[0;34m\u001b[0m\u001b[0;34m\u001b[0m\u001b[0m\n\u001b[0m\u001b[1;32m     11\u001b[0m \u001b[0mloss\u001b[0m\u001b[0;34m.\u001b[0m\u001b[0mbackward\u001b[0m\u001b[0;34m(\u001b[0m\u001b[0;34m)\u001b[0m\u001b[0;34m\u001b[0m\u001b[0;34m\u001b[0m\u001b[0m\n\u001b[1;32m     12\u001b[0m \u001b[0;34m\u001b[0m\u001b[0m\n",
            "\u001b[0;32m/tmp/ipython-input-2500426916.py\u001b[0m in \u001b[0;36mforward\u001b[0;34m(self)\u001b[0m\n\u001b[1;32m     43\u001b[0m                 \u001b[0;31m# TODO: Compute the forward value of the Node in the graph\u001b[0m\u001b[0;34m\u001b[0m\u001b[0;34m\u001b[0m\u001b[0m\n\u001b[1;32m     44\u001b[0m                 \u001b[0mparent_values\u001b[0m \u001b[0;34m=\u001b[0m \u001b[0;34m[\u001b[0m\u001b[0mp\u001b[0m\u001b[0;34m.\u001b[0m\u001b[0mvalue\u001b[0m \u001b[0;32mfor\u001b[0m \u001b[0mp\u001b[0m \u001b[0;32min\u001b[0m \u001b[0mnode\u001b[0m\u001b[0;34m.\u001b[0m\u001b[0mparents\u001b[0m\u001b[0;34m]\u001b[0m\u001b[0;34m\u001b[0m\u001b[0;34m\u001b[0m\u001b[0m\n\u001b[0;32m---> 45\u001b[0;31m                 \u001b[0mnode\u001b[0m\u001b[0;34m.\u001b[0m\u001b[0mvalue\u001b[0m \u001b[0;34m=\u001b[0m \u001b[0mnode\u001b[0m\u001b[0;34m.\u001b[0m\u001b[0mop\u001b[0m\u001b[0;34m.\u001b[0m\u001b[0mforward\u001b[0m\u001b[0;34m(\u001b[0m\u001b[0;34m*\u001b[0m\u001b[0mparent_values\u001b[0m\u001b[0;34m)\u001b[0m\u001b[0;34m\u001b[0m\u001b[0;34m\u001b[0m\u001b[0m\n\u001b[0m\u001b[1;32m     46\u001b[0m                 \u001b[0;31m###################################################\u001b[0m\u001b[0;34m\u001b[0m\u001b[0;34m\u001b[0m\u001b[0m\n\u001b[1;32m     47\u001b[0m \u001b[0;34m\u001b[0m\u001b[0m\n",
            "\u001b[0;32m/tmp/ipython-input-1128992765.py\u001b[0m in \u001b[0;36mforward\u001b[0;34m(self, x, y)\u001b[0m\n\u001b[1;32m     59\u001b[0m         \u001b[0;31m######################### YOUR CODE #########################\u001b[0m\u001b[0;34m\u001b[0m\u001b[0;34m\u001b[0m\u001b[0m\n\u001b[1;32m     60\u001b[0m         \u001b[0;31m### TODO: Return the result of the operation’s forward pass\u001b[0m\u001b[0;34m\u001b[0m\u001b[0;34m\u001b[0m\u001b[0m\n\u001b[0;32m---> 61\u001b[0;31m         \u001b[0;32mreturn\u001b[0m \u001b[0mx\u001b[0m \u001b[0;34m@\u001b[0m \u001b[0my\u001b[0m\u001b[0;34m\u001b[0m\u001b[0;34m\u001b[0m\u001b[0m\n\u001b[0m\u001b[1;32m     62\u001b[0m         \u001b[0;31m#############################################################\u001b[0m\u001b[0;34m\u001b[0m\u001b[0;34m\u001b[0m\u001b[0m\n\u001b[1;32m     63\u001b[0m \u001b[0;34m\u001b[0m\u001b[0m\n",
            "\u001b[0;31mValueError\u001b[0m: matmul: Input operand 1 has a mismatch in its core dimension 0, with gufunc signature (n?,k),(k,m?)->(n?,m?) (size 16 is different from 100)"
          ]
        }
      ],
      "source": [
        "#################### DO NOT MODIFY ####################\n",
        "model = LinearMLP([2, 16, 2]) # 2 layer MLP\n",
        "X_node = get_node(name='X', value=X.T, op=None, parents=[])\n",
        "y_onehot = OneHotEncoder().fit_transform(y.reshape(-1,1)).toarray()\n",
        "y_node = get_node(name='y', value=y_onehot.T, op=None, parents=[])\n",
        "\n",
        "# Before training\n",
        "layer_output = model(X_node)\n",
        "loss = get_node(name='loss', op=SoftmaxCrossEntropyLoss(), parents=[layer_output, y_node])\n",
        "loss.forward()\n",
        "loss.backward()\n",
        "\n",
        "print(loss.value)"
      ]
    },
    {
      "cell_type": "code",
      "execution_count": null,
      "id": "8f0544d6",
      "metadata": {
        "id": "8f0544d6"
      },
      "outputs": [],
      "source": [
        "def step_network(network, inputs, targets, learning_rate):\n",
        "\n",
        "    #################### YOUR CODE ############################\n",
        "    # TODO: Complete the training code using the Node() class,\n",
        "    #       and operations (if needed) we built earlier.\n",
        "    #       This function should return the loss from that step.\n",
        "    #       Hint: refer to the week2 homework code to implement\n",
        "    #             a new version of the step_network using the Node\n",
        "    #             and Operations we built\n",
        "    network.zero_grad()\n",
        "    out = network(inputs)\n",
        "    loss = get_node(name='loss', op=SoftmaxCrossEntropyLoss(), parents=[out, targets])\n",
        "    loss.forward()\n",
        "    loss.backward()\n",
        "    return loss.value\n",
        "    ##########################################################\n",
        "\n",
        "def train_linear_mlp(mlp, learning_rate, n_iterations, inputs, targets):\n",
        "    losses = []\n",
        "    acc = []\n",
        "    for _ in range(n_iterations):\n",
        "        loss = step_network(mlp, inputs, targets, learning_rate)\n",
        "        losses.append(loss)\n",
        "\n",
        "    return losses"
      ]
    },
    {
      "cell_type": "code",
      "execution_count": null,
      "id": "3cb8f988",
      "metadata": {
        "id": "3cb8f988"
      },
      "outputs": [],
      "source": [
        "############### SANITY CHECK ###############\n",
        "SEED = 123\n",
        "np.random.seed(SEED)\n",
        "\n",
        "model = LinearMLP([2, 16, 2]) # one layer MLP, input_dim=2, hidden_dim=16, output_dim=2\n",
        "X_node = get_node(name='X', value=X.T, op=None, parents=[])\n",
        "y_onehot = OneHotEncoder().fit_transform(y.reshape(-1,1)).toarray()\n",
        "y_node = get_node(name='y', value=y_onehot.T, op=None, parents=[])\n",
        "losses = train_linear_mlp(model, 0.2, 500, X_node, y_node)\n",
        "\n",
        "# accuracy on the train set\n",
        "out = model(X_node)\n",
        "out.forward()\n",
        "\n",
        "print(\"Accuracy: \", (np.argmax(out.value, axis=0) == ((y > 0) * 1)).mean())\n",
        "visualize_convergence(model, X, y)"
      ]
    }
  ],
  "metadata": {
    "colab": {
      "provenance": [],
      "include_colab_link": true
    },
    "kernelspec": {
      "display_name": "dataid_env2",
      "language": "python",
      "name": "python3"
    },
    "language_info": {
      "codemirror_mode": {
        "name": "ipython",
        "version": 3
      },
      "file_extension": ".py",
      "mimetype": "text/x-python",
      "name": "python",
      "nbconvert_exporter": "python",
      "pygments_lexer": "ipython3",
      "version": "3.11.11"
    }
  },
  "nbformat": 4,
  "nbformat_minor": 5
}